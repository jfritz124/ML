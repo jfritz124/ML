{
 "cells": [
  {
   "cell_type": "markdown",
   "id": "b8f2b7fd",
   "metadata": {},
   "source": [
    "# EDA (Exploratory Data Analysis)"
   ]
  },
  {
   "cell_type": "markdown",
   "id": "57b60fd2",
   "metadata": {},
   "source": [
    "## Trainings- und Testdaten laden"
   ]
  },
  {
   "cell_type": "code",
   "execution_count": 1,
   "id": "2800fe1e",
   "metadata": {
    "scrolled": true
   },
   "outputs": [
    {
     "data": {
      "text/html": [
       "<div>\n",
       "<style scoped>\n",
       "    .dataframe tbody tr th:only-of-type {\n",
       "        vertical-align: middle;\n",
       "    }\n",
       "\n",
       "    .dataframe tbody tr th {\n",
       "        vertical-align: top;\n",
       "    }\n",
       "\n",
       "    .dataframe thead th {\n",
       "        text-align: right;\n",
       "    }\n",
       "</style>\n",
       "<table border=\"1\" class=\"dataframe\">\n",
       "  <thead>\n",
       "    <tr style=\"text-align: right;\">\n",
       "      <th></th>\n",
       "      <th>transactionId</th>\n",
       "      <th>basket</th>\n",
       "      <th>customerType</th>\n",
       "      <th>totalAmount</th>\n",
       "      <th>returnLabel</th>\n",
       "    </tr>\n",
       "  </thead>\n",
       "  <tbody>\n",
       "    <tr>\n",
       "      <th>0</th>\n",
       "      <td>9534310106</td>\n",
       "      <td>[4, 3, 4]</td>\n",
       "      <td>new</td>\n",
       "      <td>252.0</td>\n",
       "      <td>1</td>\n",
       "    </tr>\n",
       "    <tr>\n",
       "      <th>1</th>\n",
       "      <td>7202594767</td>\n",
       "      <td>[4, 2, 0, 2, 5]</td>\n",
       "      <td>existing</td>\n",
       "      <td>70.0</td>\n",
       "      <td>0</td>\n",
       "    </tr>\n",
       "    <tr>\n",
       "      <th>2</th>\n",
       "      <td>2737331698</td>\n",
       "      <td>[5]</td>\n",
       "      <td>existing</td>\n",
       "      <td>84.0</td>\n",
       "      <td>0</td>\n",
       "    </tr>\n",
       "    <tr>\n",
       "      <th>3</th>\n",
       "      <td>4868011733</td>\n",
       "      <td>[1, 4, 2, 4]</td>\n",
       "      <td>existing</td>\n",
       "      <td>116.0</td>\n",
       "      <td>0</td>\n",
       "    </tr>\n",
       "    <tr>\n",
       "      <th>4</th>\n",
       "      <td>7622406570</td>\n",
       "      <td>[2, 5, 3, 2, 3, 2, 0]</td>\n",
       "      <td>existing</td>\n",
       "      <td>378.0</td>\n",
       "      <td>0</td>\n",
       "    </tr>\n",
       "    <tr>\n",
       "      <th>...</th>\n",
       "      <td>...</td>\n",
       "      <td>...</td>\n",
       "      <td>...</td>\n",
       "      <td>...</td>\n",
       "      <td>...</td>\n",
       "    </tr>\n",
       "    <tr>\n",
       "      <th>22395</th>\n",
       "      <td>5461363334</td>\n",
       "      <td>[4, 5, 4]</td>\n",
       "      <td>new</td>\n",
       "      <td>147.0</td>\n",
       "      <td>0</td>\n",
       "    </tr>\n",
       "    <tr>\n",
       "      <th>22396</th>\n",
       "      <td>9013779310</td>\n",
       "      <td>[3, 4, 4, 4, 0]</td>\n",
       "      <td>NaN</td>\n",
       "      <td>NaN</td>\n",
       "      <td>1</td>\n",
       "    </tr>\n",
       "    <tr>\n",
       "      <th>22397</th>\n",
       "      <td>1590423615</td>\n",
       "      <td>[0, 4, 3]</td>\n",
       "      <td>new</td>\n",
       "      <td>249.0</td>\n",
       "      <td>1</td>\n",
       "    </tr>\n",
       "    <tr>\n",
       "      <th>22398</th>\n",
       "      <td>1800993941</td>\n",
       "      <td>[0, 5, 1, 2, 5, 5, 4, 4]</td>\n",
       "      <td>existing</td>\n",
       "      <td>80.0</td>\n",
       "      <td>0</td>\n",
       "    </tr>\n",
       "    <tr>\n",
       "      <th>22399</th>\n",
       "      <td>9903643128</td>\n",
       "      <td>[4, 4, 0, 3]</td>\n",
       "      <td>new</td>\n",
       "      <td>492.0</td>\n",
       "      <td>1</td>\n",
       "    </tr>\n",
       "  </tbody>\n",
       "</table>\n",
       "<p>22400 rows × 5 columns</p>\n",
       "</div>"
      ],
      "text/plain": [
       "       transactionId                    basket customerType  totalAmount  \\\n",
       "0         9534310106                 [4, 3, 4]          new        252.0   \n",
       "1         7202594767           [4, 2, 0, 2, 5]     existing         70.0   \n",
       "2         2737331698                       [5]     existing         84.0   \n",
       "3         4868011733              [1, 4, 2, 4]     existing        116.0   \n",
       "4         7622406570     [2, 5, 3, 2, 3, 2, 0]     existing        378.0   \n",
       "...              ...                       ...          ...          ...   \n",
       "22395     5461363334                 [4, 5, 4]          new        147.0   \n",
       "22396     9013779310           [3, 4, 4, 4, 0]          NaN          NaN   \n",
       "22397     1590423615                 [0, 4, 3]          new        249.0   \n",
       "22398     1800993941  [0, 5, 1, 2, 5, 5, 4, 4]     existing         80.0   \n",
       "22399     9903643128              [4, 4, 0, 3]          new        492.0   \n",
       "\n",
       "       returnLabel  \n",
       "0                1  \n",
       "1                0  \n",
       "2                0  \n",
       "3                0  \n",
       "4                0  \n",
       "...            ...  \n",
       "22395            0  \n",
       "22396            1  \n",
       "22397            1  \n",
       "22398            0  \n",
       "22399            1  \n",
       "\n",
       "[22400 rows x 5 columns]"
      ]
     },
     "execution_count": 1,
     "metadata": {},
     "output_type": "execute_result"
    }
   ],
   "source": [
    "import pandas as pd\n",
    "import numpy as np\n",
    "import sklearn\n",
    "train = pd.read_csv(\"./train.csv\", sep = \";\")\n",
    "test = pd.read_csv(\"./test.csv\", sep = \";\")\n",
    "train"
   ]
  },
  {
   "cell_type": "markdown",
   "id": "354053e3",
   "metadata": {},
   "source": [
    "## Histogramme zu den Features `customerType` und `totalAmount`"
   ]
  },
  {
   "cell_type": "code",
   "execution_count": 2,
   "id": "8cd1a8f4",
   "metadata": {},
   "outputs": [
    {
     "data": {
      "text/plain": [
       "<AxesSubplot:>"
      ]
     },
     "execution_count": 2,
     "metadata": {},
     "output_type": "execute_result"
    },
    {
     "data": {
      "image/png": "[encoded data removed]",
      "text/plain": [
       "<Figure size 432x288 with 1 Axes>"
      ]
     },
     "metadata": {
      "needs_background": "light"
     },
     "output_type": "display_data"
    }
   ],
   "source": [
    "train['totalAmount'].hist()"
   ]
  },
  {
   "cell_type": "code",
   "execution_count": 3,
   "id": "dee6dbc9",
   "metadata": {},
   "outputs": [
    {
     "data": {
      "text/plain": [
       "<AxesSubplot:>"
      ]
     },
     "execution_count": 3,
     "metadata": {},
     "output_type": "execute_result"
    },
    {
     "data": {
      "image/png": "[encoded data removed]",
      "text/plain": [
       "<Figure size 432x288 with 1 Axes>"
      ]
     },
     "metadata": {
      "needs_background": "light"
     },
     "output_type": "display_data"
    }
   ],
   "source": [
    "import matplotlib.pyplot as plot\n",
    "train['customerType'].hist()"
   ]
  },
  {
   "cell_type": "markdown",
   "id": "190c42c6",
   "metadata": {},
   "source": [
    "## Verteilung von `returnLabel`"
   ]
  },
  {
   "cell_type": "code",
   "execution_count": 4,
   "id": "766fa33b",
   "metadata": {},
   "outputs": [
    {
     "data": {
      "text/plain": [
       "<AxesSubplot:>"
      ]
     },
     "execution_count": 4,
     "metadata": {},
     "output_type": "execute_result"
    },
    {
     "data": {
      "image/png": "[encoded data removed]",
      "text/plain": [
       "<Figure size 432x288 with 1 Axes>"
      ]
     },
     "metadata": {
      "needs_background": "light"
     },
     "output_type": "display_data"
    }
   ],
   "source": [
    "train['returnLabel'].hist()"
   ]
  },
  {
   "cell_type": "markdown",
   "id": "8c1149f0",
   "metadata": {},
   "source": [
    "### In Abhängigkeit zu allen Ausprägungen von `customerType`"
   ]
  },
  {
   "cell_type": "code",
   "execution_count": 5,
   "id": "49da1e5e",
   "metadata": {},
   "outputs": [
    {
     "data": {
      "text/plain": [
       "<AxesSubplot:>"
      ]
     },
     "execution_count": 5,
     "metadata": {},
     "output_type": "execute_result"
    },
    {
     "data": {
      "image/png": "[encoded data removed]",
      "text/plain": [
       "<Figure size 432x288 with 1 Axes>"
      ]
     },
     "metadata": {
      "needs_background": "light"
     },
     "output_type": "display_data"
    }
   ],
   "source": [
    "train[(train['returnLabel'] == 1)]['customerType'].hist()"
   ]
  },
  {
   "cell_type": "code",
   "execution_count": 6,
   "id": "21cba641",
   "metadata": {},
   "outputs": [
    {
     "data": {
      "text/plain": [
       "<AxesSubplot:>"
      ]
     },
     "execution_count": 6,
     "metadata": {},
     "output_type": "execute_result"
    },
    {
     "data": {
      "image/png": "[encoded data removed]",
      "text/plain": [
       "<Figure size 432x288 with 1 Axes>"
      ]
     },
     "metadata": {
      "needs_background": "light"
     },
     "output_type": "display_data"
    }
   ],
   "source": [
    "train[(train['returnLabel'] == 0)]['customerType'].hist()"
   ]
  },
  {
   "cell_type": "markdown",
   "id": "73cf5921",
   "metadata": {},
   "source": [
    "## Boxplot für `totalAmount` in Abhängigkeit von `returnLabel`"
   ]
  },
  {
   "cell_type": "code",
   "execution_count": 7,
   "id": "b57854d7",
   "metadata": {},
   "outputs": [
    {
     "data": {
      "text/plain": [
       "<AxesSubplot:title={'center':'totalAmount'}, xlabel='returnLabel'>"
      ]
     },
     "execution_count": 7,
     "metadata": {},
     "output_type": "execute_result"
    },
    {
     "data": {
      "image/png": "[encoded data removed]",
      "text/plain": [
       "<Figure size 432x288 with 1 Axes>"
      ]
     },
     "metadata": {
      "needs_background": "light"
     },
     "output_type": "display_data"
    }
   ],
   "source": [
    "train.boxplot(\"totalAmount\", by=\"returnLabel\")"
   ]
  },
  {
   "cell_type": "markdown",
   "id": "051f9855",
   "metadata": {},
   "source": [
    "## Displot für `totalAmount` in Abhängigkeit von `returnLabel`"
   ]
  },
  {
   "cell_type": "code",
   "execution_count": 8,
   "id": "4c9fb0de",
   "metadata": {},
   "outputs": [
    {
     "data": {
      "text/plain": [
       "<seaborn.axisgrid.FacetGrid at 0x174c0c41700>"
      ]
     },
     "execution_count": 8,
     "metadata": {},
     "output_type": "execute_result"
    },
    {
     "data": {
      "image/png": "[encoded data removed]",
      "text/plain": [
       "<Figure size 425.5x360 with 1 Axes>"
      ]
     },
     "metadata": {
      "needs_background": "light"
     },
     "output_type": "display_data"
    }
   ],
   "source": [
    "import seaborn\n",
    "seaborn.displot(train, x=\"totalAmount\", hue=\"returnLabel\", element=\"step\")"
   ]
  },
  {
   "cell_type": "code",
   "execution_count": 9,
   "id": "8ee197f2",
   "metadata": {},
   "outputs": [
    {
     "data": {
      "text/plain": [
       "<seaborn.axisgrid.FacetGrid at 0x174c0c4f490>"
      ]
     },
     "execution_count": 9,
     "metadata": {},
     "output_type": "execute_result"
    },
    {
     "data": {
      "image/png": "[encoded data removed]",
      "text/plain": [
       "<Figure size 425.5x360 with 1 Axes>"
      ]
     },
     "metadata": {
      "needs_background": "light"
     },
     "output_type": "display_data"
    }
   ],
   "source": [
    "seaborn.displot(train, x=\"totalAmount\", hue=\"returnLabel\", element=\"bars\")"
   ]
  },
  {
   "cell_type": "code",
   "execution_count": 10,
   "id": "dc424bd9",
   "metadata": {},
   "outputs": [
    {
     "data": {
      "text/plain": [
       "<seaborn.axisgrid.FacetGrid at 0x174c128f0d0>"
      ]
     },
     "execution_count": 10,
     "metadata": {},
     "output_type": "execute_result"
    },
    {
     "data": {
      "image/png": "[encoded data removed]",
      "text/plain": [
       "<Figure size 425.5x360 with 1 Axes>"
      ]
     },
     "metadata": {
      "needs_background": "light"
     },
     "output_type": "display_data"
    }
   ],
   "source": [
    "seaborn.displot(train, x=\"totalAmount\", hue=\"returnLabel\", element=\"poly\")"
   ]
  },
  {
   "cell_type": "markdown",
   "id": "f8c49923",
   "metadata": {},
   "source": [
    "# Auffüllen fehlender Werte in den Trainingsdaten"
   ]
  },
  {
   "cell_type": "code",
   "execution_count": 11,
   "id": "373c7b51",
   "metadata": {},
   "outputs": [
    {
     "data": {
      "text/plain": [
       "transactionId      0\n",
       "basket             0\n",
       "customerType     442\n",
       "totalAmount      477\n",
       "returnLabel        0\n",
       "dtype: int64"
      ]
     },
     "execution_count": 11,
     "metadata": {},
     "output_type": "execute_result"
    }
   ],
   "source": [
    "train.isnull().sum()"
   ]
  },
  {
   "cell_type": "code",
   "execution_count": 12,
   "id": "90c45fe4",
   "metadata": {},
   "outputs": [
    {
     "data": {
      "text/plain": [
       "transactionId    0\n",
       "basket           0\n",
       "customerType     0\n",
       "totalAmount      0\n",
       "returnLabel      0\n",
       "dtype: int64"
      ]
     },
     "execution_count": 12,
     "metadata": {},
     "output_type": "execute_result"
    }
   ],
   "source": [
    "train['customerType'].fillna(method='ffill', inplace=True)\n",
    "train['totalAmount'] = train['totalAmount'].fillna(train['totalAmount'].mean())\n",
    "train.isnull().sum()"
   ]
  },
  {
   "cell_type": "markdown",
   "id": "f58ab612",
   "metadata": {},
   "source": [
    "# One Hot Encoding"
   ]
  },
  {
   "cell_type": "code",
   "execution_count": 13,
   "id": "b440f4bf",
   "metadata": {},
   "outputs": [],
   "source": [
    "def oneHot(dataframe):\n",
    "    oneHot_FeatureOne = pd.get_dummies(dataframe['customerType'])\n",
    "    dataframe = dataframe.drop(columns=['customerType'])\n",
    "    dataframe = pd.concat([dataframe, oneHot_FeatureOne], axis=1)\n",
    "    return dataframe"
   ]
  },
  {
   "cell_type": "code",
   "execution_count": 14,
   "id": "d2c7c4d0",
   "metadata": {},
   "outputs": [
    {
     "data": {
      "text/html": [
       "<div>\n",
       "<style scoped>\n",
       "    .dataframe tbody tr th:only-of-type {\n",
       "        vertical-align: middle;\n",
       "    }\n",
       "\n",
       "    .dataframe tbody tr th {\n",
       "        vertical-align: top;\n",
       "    }\n",
       "\n",
       "    .dataframe thead th {\n",
       "        text-align: right;\n",
       "    }\n",
       "</style>\n",
       "<table border=\"1\" class=\"dataframe\">\n",
       "  <thead>\n",
       "    <tr style=\"text-align: right;\">\n",
       "      <th></th>\n",
       "      <th>transactionId</th>\n",
       "      <th>totalAmount</th>\n",
       "      <th>existing</th>\n",
       "      <th>new</th>\n",
       "      <th>c0</th>\n",
       "      <th>c1</th>\n",
       "      <th>c2</th>\n",
       "      <th>c3</th>\n",
       "      <th>c4</th>\n",
       "      <th>c5</th>\n",
       "      <th>totalItems</th>\n",
       "    </tr>\n",
       "  </thead>\n",
       "  <tbody>\n",
       "    <tr>\n",
       "      <th>0</th>\n",
       "      <td>9534310106</td>\n",
       "      <td>252.0</td>\n",
       "      <td>0</td>\n",
       "      <td>1</td>\n",
       "      <td>0</td>\n",
       "      <td>0</td>\n",
       "      <td>0</td>\n",
       "      <td>1</td>\n",
       "      <td>2</td>\n",
       "      <td>0</td>\n",
       "      <td>3</td>\n",
       "    </tr>\n",
       "    <tr>\n",
       "      <th>1</th>\n",
       "      <td>7202594767</td>\n",
       "      <td>70.0</td>\n",
       "      <td>1</td>\n",
       "      <td>0</td>\n",
       "      <td>1</td>\n",
       "      <td>0</td>\n",
       "      <td>2</td>\n",
       "      <td>0</td>\n",
       "      <td>1</td>\n",
       "      <td>1</td>\n",
       "      <td>5</td>\n",
       "    </tr>\n",
       "    <tr>\n",
       "      <th>2</th>\n",
       "      <td>2737331698</td>\n",
       "      <td>84.0</td>\n",
       "      <td>1</td>\n",
       "      <td>0</td>\n",
       "      <td>0</td>\n",
       "      <td>0</td>\n",
       "      <td>0</td>\n",
       "      <td>0</td>\n",
       "      <td>0</td>\n",
       "      <td>1</td>\n",
       "      <td>1</td>\n",
       "    </tr>\n",
       "    <tr>\n",
       "      <th>3</th>\n",
       "      <td>4868011733</td>\n",
       "      <td>116.0</td>\n",
       "      <td>1</td>\n",
       "      <td>0</td>\n",
       "      <td>0</td>\n",
       "      <td>1</td>\n",
       "      <td>1</td>\n",
       "      <td>0</td>\n",
       "      <td>2</td>\n",
       "      <td>0</td>\n",
       "      <td>4</td>\n",
       "    </tr>\n",
       "    <tr>\n",
       "      <th>4</th>\n",
       "      <td>7622406570</td>\n",
       "      <td>378.0</td>\n",
       "      <td>1</td>\n",
       "      <td>0</td>\n",
       "      <td>1</td>\n",
       "      <td>0</td>\n",
       "      <td>3</td>\n",
       "      <td>2</td>\n",
       "      <td>0</td>\n",
       "      <td>1</td>\n",
       "      <td>7</td>\n",
       "    </tr>\n",
       "  </tbody>\n",
       "</table>\n",
       "</div>"
      ],
      "text/plain": [
       "   transactionId  totalAmount  existing  new  c0  c1  c2  c3  c4  c5  \\\n",
       "0     9534310106        252.0         0    1   0   0   0   1   2   0   \n",
       "1     7202594767         70.0         1    0   1   0   2   0   1   1   \n",
       "2     2737331698         84.0         1    0   0   0   0   0   0   1   \n",
       "3     4868011733        116.0         1    0   0   1   1   0   2   0   \n",
       "4     7622406570        378.0         1    0   1   0   3   2   0   1   \n",
       "\n",
       "   totalItems  \n",
       "0           3  \n",
       "1           5  \n",
       "2           1  \n",
       "3           4  \n",
       "4           7  "
      ]
     },
     "execution_count": 14,
     "metadata": {},
     "output_type": "execute_result"
    }
   ],
   "source": [
    "def createFeatures(dataframe):\n",
    "    dataframe = oneHot(dataframe)\n",
    "    basketFeatures = [[], [], [], [], [], [], []]\n",
    "    basketFeatureNames = ['c0', 'c1', 'c2', 'c3', 'c4', 'c5', 'totalItems']\n",
    "    for basketRow in dataframe['basket']:\n",
    "        totalItems = 0\n",
    "        basket = [0, 0, 0, 0, 0, 0]\n",
    "        for item in eval(basketRow):\n",
    "            basket[item] += 1;\n",
    "            totalItems += 1;\n",
    "        basketFeatures[6].append(totalItems)\n",
    "        for category in range(len(basket)):\n",
    "            basketFeatures[category].append(basket[category])\n",
    "    dataframe = dataframe.drop(columns = ['basket'])\n",
    "    for col in range(len(basketFeatureNames)):\n",
    "        dataframe[basketFeatureNames[col]] = basketFeatures[col]\n",
    "    return dataframe\n",
    "\n",
    "xTrain = createFeatures(train.drop(columns = 'returnLabel'))\n",
    "yTrain = train['returnLabel']\n",
    "xTrain.head()"
   ]
  },
  {
   "cell_type": "markdown",
   "id": "0261ef31",
   "metadata": {},
   "source": [
    "# Features skalieren"
   ]
  },
  {
   "cell_type": "code",
   "execution_count": 15,
   "id": "8843a33b",
   "metadata": {},
   "outputs": [],
   "source": [
    "from sklearn.preprocessing import StandardScaler\n",
    "scaler = StandardScaler().fit(xTrain)\n",
    "xTrain_scaled = scaler.transform(xTrain)"
   ]
  },
  {
   "cell_type": "markdown",
   "id": "c51bfb87",
   "metadata": {},
   "source": [
    "# Training"
   ]
  },
  {
   "cell_type": "markdown",
   "id": "5fb472b9",
   "metadata": {},
   "source": [
    "## Logistische Regression"
   ]
  },
  {
   "cell_type": "code",
   "execution_count": 38,
   "id": "04a5ab65",
   "metadata": {},
   "outputs": [
    {
     "name": "stderr",
     "output_type": "stream",
     "text": [
      "C:\\Users\\jfrit\\anaconda3\\lib\\site-packages\\sklearn\\model_selection\\_search.py:918: UserWarning: One or more of the test scores are non-finite: [       nan 0.87763393        nan 0.87790179        nan 0.87776786\n",
      "        nan 0.87776786        nan 0.87776786        nan 0.8778125\n",
      "        nan 0.8778125         nan 0.8778125 ]\n",
      "  warnings.warn(\n"
     ]
    },
    {
     "data": {
      "text/plain": [
       "GridSearchCV(estimator=LogisticRegression(random_state=0), n_jobs=-1,\n",
       "             param_grid=[{'C': [0.1, 1, 4, 5, 6, 10, 30, 100],\n",
       "                          'penalty': ['l1', 'l2']}])"
      ]
     },
     "execution_count": 38,
     "metadata": {},
     "output_type": "execute_result"
    }
   ],
   "source": [
    "from sklearn.linear_model import LogisticRegression\n",
    "from sklearn.model_selection import GridSearchCV\n",
    "\n",
    "logisticRegParam = [{'C':[0.1, 1, 4, 5, 6, 10, 30, 100], 'penalty': [\"l1\", \"l2\"]}]\n",
    "logisticRegr = LogisticRegression(random_state = 0)\n",
    "logisticRegrGrid = GridSearchCV(estimator = logisticRegr, param_grid = logisticRegParam, n_jobs = -1)\n",
    "logisticRegrGrid.fit(xTrain_scaled, yTrain)"
   ]
  },
  {
   "cell_type": "code",
   "execution_count": 17,
   "id": "7b8591c3",
   "metadata": {},
   "outputs": [
    {
     "name": "stdout",
     "output_type": "stream",
     "text": [
      "Best C:  1\n",
      "Best penalty:  l2\n"
     ]
    }
   ],
   "source": [
    "print(\"Best C: \", logisticRegrGrid.best_estimator_.C)\n",
    "print(\"Best penalty: \", logisticRegrGrid.best_estimator_.penalty)"
   ]
  },
  {
   "cell_type": "markdown",
   "id": "d98218fc",
   "metadata": {},
   "source": [
    "## Random Forest"
   ]
  },
  {
   "cell_type": "code",
   "execution_count": 18,
   "id": "b112efbe",
   "metadata": {},
   "outputs": [
    {
     "data": {
      "text/plain": [
       "GridSearchCV(estimator=RandomForestClassifier(random_state=0), n_jobs=-1,\n",
       "             param_grid=[{'max_depth': [2, 4, 6],\n",
       "                          'n_estimators': [60, 80, 100, 120, 140]}])"
      ]
     },
     "execution_count": 18,
     "metadata": {},
     "output_type": "execute_result"
    }
   ],
   "source": [
    "from sklearn.ensemble import RandomForestClassifier\n",
    "\n",
    "randomForestParam = [{'n_estimators': [60, 80, 100, 120, 140], 'max_depth': [2, 4, 6]}]\n",
    "randomForestClassifier = RandomForestClassifier(random_state=0)\n",
    "randomForestGrid = GridSearchCV(estimator = randomForestClassifier, param_grid = randomForestParam, n_jobs = -1)\n",
    "randomForestGrid.fit(xTrain_scaled, yTrain)"
   ]
  },
  {
   "cell_type": "code",
   "execution_count": 19,
   "id": "e07001a0",
   "metadata": {},
   "outputs": [
    {
     "name": "stdout",
     "output_type": "stream",
     "text": [
      "Best n_estimators:  120\n",
      "Best max_depth:  6\n"
     ]
    }
   ],
   "source": [
    "print(\"Best n_estimators: \", randomForestGrid.best_estimator_.n_estimators)\n",
    "print(\"Best max_depth: \", randomForestGrid.best_estimator_.max_depth)"
   ]
  },
  {
   "cell_type": "markdown",
   "id": "429332f5",
   "metadata": {},
   "source": [
    "## Gradient Boosting"
   ]
  },
  {
   "cell_type": "code",
   "execution_count": 20,
   "id": "13d2113c",
   "metadata": {},
   "outputs": [
    {
     "data": {
      "text/plain": [
       "GridSearchCV(estimator=GradientBoostingClassifier(random_state=0), n_jobs=-1,\n",
       "             param_grid=[{'max_depth': [2, 4, 6],\n",
       "                          'n_estimators': [60, 80, 100, 120, 140]}])"
      ]
     },
     "execution_count": 20,
     "metadata": {},
     "output_type": "execute_result"
    }
   ],
   "source": [
    "from sklearn.ensemble import GradientBoostingClassifier\n",
    "\n",
    "gradientBoostingParam = [{'n_estimators': [60, 80, 100, 120, 140], 'max_depth': [2, 4, 6]}]\n",
    "gradientBoostingClassifier = GradientBoostingClassifier(random_state = 0)\n",
    "gradientBoostingGrid = GridSearchCV(estimator = gradientBoostingClassifier, param_grid = gradientBoostingParam, n_jobs = -1)\n",
    "gradientBoostingGrid.fit(xTrain_scaled, yTrain)"
   ]
  },
  {
   "cell_type": "code",
   "execution_count": 21,
   "id": "0b188322",
   "metadata": {},
   "outputs": [
    {
     "name": "stdout",
     "output_type": "stream",
     "text": [
      "Best n_estimators:  140\n",
      "Best max_depth:  2\n"
     ]
    }
   ],
   "source": [
    "print(\"Best n_estimators: \", gradientBoostingGrid.best_estimator_.n_estimators)\n",
    "print(\"Best max_depth: \", gradientBoostingGrid.best_estimator_.max_depth)"
   ]
  },
  {
   "cell_type": "markdown",
   "id": "93def306",
   "metadata": {},
   "source": [
    "# Testen"
   ]
  },
  {
   "cell_type": "code",
   "execution_count": 22,
   "id": "3010b395",
   "metadata": {},
   "outputs": [
    {
     "data": {
      "text/html": [
       "<div>\n",
       "<style scoped>\n",
       "    .dataframe tbody tr th:only-of-type {\n",
       "        vertical-align: middle;\n",
       "    }\n",
       "\n",
       "    .dataframe tbody tr th {\n",
       "        vertical-align: top;\n",
       "    }\n",
       "\n",
       "    .dataframe thead th {\n",
       "        text-align: right;\n",
       "    }\n",
       "</style>\n",
       "<table border=\"1\" class=\"dataframe\">\n",
       "  <thead>\n",
       "    <tr style=\"text-align: right;\">\n",
       "      <th></th>\n",
       "      <th>transactionId</th>\n",
       "      <th>basket</th>\n",
       "      <th>customerType</th>\n",
       "      <th>totalAmount</th>\n",
       "      <th>returnLabel</th>\n",
       "    </tr>\n",
       "  </thead>\n",
       "  <tbody>\n",
       "    <tr>\n",
       "      <th>0</th>\n",
       "      <td>4132523932</td>\n",
       "      <td>[4, 3, 4, 3, 2, 3]</td>\n",
       "      <td>existing</td>\n",
       "      <td>366.0</td>\n",
       "      <td>1</td>\n",
       "    </tr>\n",
       "    <tr>\n",
       "      <th>1</th>\n",
       "      <td>8998574539</td>\n",
       "      <td>[3, 4, 4, 3, 5]</td>\n",
       "      <td>existing</td>\n",
       "      <td>85.0</td>\n",
       "      <td>0</td>\n",
       "    </tr>\n",
       "    <tr>\n",
       "      <th>2</th>\n",
       "      <td>9346688547</td>\n",
       "      <td>[1, 1, 2, 2, 4, 4, 3, 1, 1, 0, 3]</td>\n",
       "      <td>existing</td>\n",
       "      <td>275.0</td>\n",
       "      <td>0</td>\n",
       "    </tr>\n",
       "    <tr>\n",
       "      <th>3</th>\n",
       "      <td>4533897707</td>\n",
       "      <td>[3, 2, 2, 1, 5, 1, 1, 0]</td>\n",
       "      <td>existing</td>\n",
       "      <td>528.0</td>\n",
       "      <td>0</td>\n",
       "    </tr>\n",
       "    <tr>\n",
       "      <th>4</th>\n",
       "      <td>3334800500</td>\n",
       "      <td>[4, 2, 3, 5, 2, 5, 1]</td>\n",
       "      <td>existing</td>\n",
       "      <td>287.0</td>\n",
       "      <td>0</td>\n",
       "    </tr>\n",
       "    <tr>\n",
       "      <th>...</th>\n",
       "      <td>...</td>\n",
       "      <td>...</td>\n",
       "      <td>...</td>\n",
       "      <td>...</td>\n",
       "      <td>...</td>\n",
       "    </tr>\n",
       "    <tr>\n",
       "      <th>9595</th>\n",
       "      <td>7995301628</td>\n",
       "      <td>[1, 3]</td>\n",
       "      <td>existing</td>\n",
       "      <td>66.0</td>\n",
       "      <td>0</td>\n",
       "    </tr>\n",
       "    <tr>\n",
       "      <th>9596</th>\n",
       "      <td>7387398375</td>\n",
       "      <td>[1, 4, 3, 3]</td>\n",
       "      <td>existing</td>\n",
       "      <td>40.0</td>\n",
       "      <td>0</td>\n",
       "    </tr>\n",
       "    <tr>\n",
       "      <th>9597</th>\n",
       "      <td>2777556607</td>\n",
       "      <td>[4]</td>\n",
       "      <td>existing</td>\n",
       "      <td>126.0</td>\n",
       "      <td>1</td>\n",
       "    </tr>\n",
       "    <tr>\n",
       "      <th>9598</th>\n",
       "      <td>7205276301</td>\n",
       "      <td>[4, 5, 4, 1, 0, 2, 0]</td>\n",
       "      <td>existing</td>\n",
       "      <td>70.0</td>\n",
       "      <td>0</td>\n",
       "    </tr>\n",
       "    <tr>\n",
       "      <th>9599</th>\n",
       "      <td>2357221024</td>\n",
       "      <td>[1, 4]</td>\n",
       "      <td>existing</td>\n",
       "      <td>142.0</td>\n",
       "      <td>0</td>\n",
       "    </tr>\n",
       "  </tbody>\n",
       "</table>\n",
       "<p>9600 rows × 5 columns</p>\n",
       "</div>"
      ],
      "text/plain": [
       "      transactionId                             basket customerType  \\\n",
       "0        4132523932                 [4, 3, 4, 3, 2, 3]     existing   \n",
       "1        8998574539                    [3, 4, 4, 3, 5]     existing   \n",
       "2        9346688547  [1, 1, 2, 2, 4, 4, 3, 1, 1, 0, 3]     existing   \n",
       "3        4533897707           [3, 2, 2, 1, 5, 1, 1, 0]     existing   \n",
       "4        3334800500              [4, 2, 3, 5, 2, 5, 1]     existing   \n",
       "...             ...                                ...          ...   \n",
       "9595     7995301628                             [1, 3]     existing   \n",
       "9596     7387398375                       [1, 4, 3, 3]     existing   \n",
       "9597     2777556607                                [4]     existing   \n",
       "9598     7205276301              [4, 5, 4, 1, 0, 2, 0]     existing   \n",
       "9599     2357221024                             [1, 4]     existing   \n",
       "\n",
       "      totalAmount  returnLabel  \n",
       "0           366.0            1  \n",
       "1            85.0            0  \n",
       "2           275.0            0  \n",
       "3           528.0            0  \n",
       "4           287.0            0  \n",
       "...           ...          ...  \n",
       "9595         66.0            0  \n",
       "9596         40.0            0  \n",
       "9597        126.0            1  \n",
       "9598         70.0            0  \n",
       "9599        142.0            0  \n",
       "\n",
       "[9600 rows x 5 columns]"
      ]
     },
     "execution_count": 22,
     "metadata": {},
     "output_type": "execute_result"
    }
   ],
   "source": [
    "test = pd.read_csv(\"./test.csv\", sep = \";\")\n",
    "test"
   ]
  },
  {
   "cell_type": "code",
   "execution_count": 23,
   "id": "949073ce",
   "metadata": {},
   "outputs": [
    {
     "data": {
      "text/html": [
       "<div>\n",
       "<style scoped>\n",
       "    .dataframe tbody tr th:only-of-type {\n",
       "        vertical-align: middle;\n",
       "    }\n",
       "\n",
       "    .dataframe tbody tr th {\n",
       "        vertical-align: top;\n",
       "    }\n",
       "\n",
       "    .dataframe thead th {\n",
       "        text-align: right;\n",
       "    }\n",
       "</style>\n",
       "<table border=\"1\" class=\"dataframe\">\n",
       "  <thead>\n",
       "    <tr style=\"text-align: right;\">\n",
       "      <th></th>\n",
       "      <th>transactionId</th>\n",
       "      <th>totalAmount</th>\n",
       "      <th>existing</th>\n",
       "      <th>new</th>\n",
       "      <th>c0</th>\n",
       "      <th>c1</th>\n",
       "      <th>c2</th>\n",
       "      <th>c3</th>\n",
       "      <th>c4</th>\n",
       "      <th>c5</th>\n",
       "      <th>totalItems</th>\n",
       "    </tr>\n",
       "  </thead>\n",
       "  <tbody>\n",
       "    <tr>\n",
       "      <th>0</th>\n",
       "      <td>4132523932</td>\n",
       "      <td>366.0</td>\n",
       "      <td>1</td>\n",
       "      <td>0</td>\n",
       "      <td>0</td>\n",
       "      <td>0</td>\n",
       "      <td>1</td>\n",
       "      <td>3</td>\n",
       "      <td>2</td>\n",
       "      <td>0</td>\n",
       "      <td>6</td>\n",
       "    </tr>\n",
       "    <tr>\n",
       "      <th>1</th>\n",
       "      <td>8998574539</td>\n",
       "      <td>85.0</td>\n",
       "      <td>1</td>\n",
       "      <td>0</td>\n",
       "      <td>0</td>\n",
       "      <td>0</td>\n",
       "      <td>0</td>\n",
       "      <td>2</td>\n",
       "      <td>2</td>\n",
       "      <td>1</td>\n",
       "      <td>5</td>\n",
       "    </tr>\n",
       "    <tr>\n",
       "      <th>2</th>\n",
       "      <td>9346688547</td>\n",
       "      <td>275.0</td>\n",
       "      <td>1</td>\n",
       "      <td>0</td>\n",
       "      <td>1</td>\n",
       "      <td>4</td>\n",
       "      <td>2</td>\n",
       "      <td>2</td>\n",
       "      <td>2</td>\n",
       "      <td>0</td>\n",
       "      <td>11</td>\n",
       "    </tr>\n",
       "    <tr>\n",
       "      <th>3</th>\n",
       "      <td>4533897707</td>\n",
       "      <td>528.0</td>\n",
       "      <td>1</td>\n",
       "      <td>0</td>\n",
       "      <td>1</td>\n",
       "      <td>3</td>\n",
       "      <td>2</td>\n",
       "      <td>1</td>\n",
       "      <td>0</td>\n",
       "      <td>1</td>\n",
       "      <td>8</td>\n",
       "    </tr>\n",
       "    <tr>\n",
       "      <th>4</th>\n",
       "      <td>3334800500</td>\n",
       "      <td>287.0</td>\n",
       "      <td>1</td>\n",
       "      <td>0</td>\n",
       "      <td>0</td>\n",
       "      <td>1</td>\n",
       "      <td>2</td>\n",
       "      <td>1</td>\n",
       "      <td>1</td>\n",
       "      <td>2</td>\n",
       "      <td>7</td>\n",
       "    </tr>\n",
       "    <tr>\n",
       "      <th>...</th>\n",
       "      <td>...</td>\n",
       "      <td>...</td>\n",
       "      <td>...</td>\n",
       "      <td>...</td>\n",
       "      <td>...</td>\n",
       "      <td>...</td>\n",
       "      <td>...</td>\n",
       "      <td>...</td>\n",
       "      <td>...</td>\n",
       "      <td>...</td>\n",
       "      <td>...</td>\n",
       "    </tr>\n",
       "    <tr>\n",
       "      <th>9595</th>\n",
       "      <td>7995301628</td>\n",
       "      <td>66.0</td>\n",
       "      <td>1</td>\n",
       "      <td>0</td>\n",
       "      <td>0</td>\n",
       "      <td>1</td>\n",
       "      <td>0</td>\n",
       "      <td>1</td>\n",
       "      <td>0</td>\n",
       "      <td>0</td>\n",
       "      <td>2</td>\n",
       "    </tr>\n",
       "    <tr>\n",
       "      <th>9596</th>\n",
       "      <td>7387398375</td>\n",
       "      <td>40.0</td>\n",
       "      <td>1</td>\n",
       "      <td>0</td>\n",
       "      <td>0</td>\n",
       "      <td>1</td>\n",
       "      <td>0</td>\n",
       "      <td>2</td>\n",
       "      <td>1</td>\n",
       "      <td>0</td>\n",
       "      <td>4</td>\n",
       "    </tr>\n",
       "    <tr>\n",
       "      <th>9597</th>\n",
       "      <td>2777556607</td>\n",
       "      <td>126.0</td>\n",
       "      <td>1</td>\n",
       "      <td>0</td>\n",
       "      <td>0</td>\n",
       "      <td>0</td>\n",
       "      <td>0</td>\n",
       "      <td>0</td>\n",
       "      <td>1</td>\n",
       "      <td>0</td>\n",
       "      <td>1</td>\n",
       "    </tr>\n",
       "    <tr>\n",
       "      <th>9598</th>\n",
       "      <td>7205276301</td>\n",
       "      <td>70.0</td>\n",
       "      <td>1</td>\n",
       "      <td>0</td>\n",
       "      <td>2</td>\n",
       "      <td>1</td>\n",
       "      <td>1</td>\n",
       "      <td>0</td>\n",
       "      <td>2</td>\n",
       "      <td>1</td>\n",
       "      <td>7</td>\n",
       "    </tr>\n",
       "    <tr>\n",
       "      <th>9599</th>\n",
       "      <td>2357221024</td>\n",
       "      <td>142.0</td>\n",
       "      <td>1</td>\n",
       "      <td>0</td>\n",
       "      <td>0</td>\n",
       "      <td>1</td>\n",
       "      <td>0</td>\n",
       "      <td>0</td>\n",
       "      <td>1</td>\n",
       "      <td>0</td>\n",
       "      <td>2</td>\n",
       "    </tr>\n",
       "  </tbody>\n",
       "</table>\n",
       "<p>9425 rows × 11 columns</p>\n",
       "</div>"
      ],
      "text/plain": [
       "      transactionId  totalAmount  existing  new  c0  c1  c2  c3  c4  c5  \\\n",
       "0        4132523932        366.0         1    0   0   0   1   3   2   0   \n",
       "1        8998574539         85.0         1    0   0   0   0   2   2   1   \n",
       "2        9346688547        275.0         1    0   1   4   2   2   2   0   \n",
       "3        4533897707        528.0         1    0   1   3   2   1   0   1   \n",
       "4        3334800500        287.0         1    0   0   1   2   1   1   2   \n",
       "...             ...          ...       ...  ...  ..  ..  ..  ..  ..  ..   \n",
       "9595     7995301628         66.0         1    0   0   1   0   1   0   0   \n",
       "9596     7387398375         40.0         1    0   0   1   0   2   1   0   \n",
       "9597     2777556607        126.0         1    0   0   0   0   0   1   0   \n",
       "9598     7205276301         70.0         1    0   2   1   1   0   2   1   \n",
       "9599     2357221024        142.0         1    0   0   1   0   0   1   0   \n",
       "\n",
       "      totalItems  \n",
       "0              6  \n",
       "1              5  \n",
       "2             11  \n",
       "3              8  \n",
       "4              7  \n",
       "...          ...  \n",
       "9595           2  \n",
       "9596           4  \n",
       "9597           1  \n",
       "9598           7  \n",
       "9599           2  \n",
       "\n",
       "[9425 rows x 11 columns]"
      ]
     },
     "execution_count": 23,
     "metadata": {},
     "output_type": "execute_result"
    }
   ],
   "source": [
    "xTest = createFeatures(test.drop(columns = 'returnLabel')).dropna()\n",
    "yTest = test['returnLabel']\n",
    "yTest = yTest[xTest.index]\n",
    "xTest"
   ]
  },
  {
   "cell_type": "markdown",
   "id": "931cc395",
   "metadata": {},
   "source": [
    "## Datenskalierung"
   ]
  },
  {
   "cell_type": "code",
   "execution_count": 24,
   "id": "567b9c72",
   "metadata": {},
   "outputs": [],
   "source": [
    "xTest_scaled = scaler.transform(xTest)"
   ]
  },
  {
   "cell_type": "markdown",
   "id": "bf9c0089",
   "metadata": {},
   "source": [
    "## Modelle mit den besten Hyperparametern"
   ]
  },
  {
   "cell_type": "code",
   "execution_count": 25,
   "id": "6e79c196",
   "metadata": {},
   "outputs": [],
   "source": [
    "logRes = LogisticRegression(random_state = 0, C = logisticRegrGrid.best_estimator_.C, penalty=logisticRegrGrid.best_estimator_.penalty)\n",
    "logRes.fit(xTrain_scaled, yTrain)\n",
    "logResPredict = logRes.predict(xTest_scaled)\n",
    "\n",
    "ranForClass = RandomForestClassifier(random_state = 0, n_estimators = randomForestGrid.best_estimator_.n_estimators, max_depth = randomForestGrid.best_estimator_.max_depth)\n",
    "ranForClass.fit(xTrain_scaled, yTrain)\n",
    "ranForClassPredict = ranForClass.predict(xTest_scaled)\n",
    "\n",
    "gradBoostClass = GradientBoostingClassifier(random_state = 0, n_estimators = gradientBoostingGrid.best_estimator_.n_estimators, max_depth = gradientBoostingGrid.best_estimator_.max_depth)\n",
    "gradBoostClass.fit(xTrain_scaled, yTrain)\n",
    "gradBoostClassPredict = gradBoostClass.predict(xTest_scaled)"
   ]
  },
  {
   "cell_type": "markdown",
   "id": "52166dc1",
   "metadata": {},
   "source": [
    "# Accuracy, Precision, Recall"
   ]
  },
  {
   "cell_type": "markdown",
   "id": "1b0e0735",
   "metadata": {},
   "source": [
    "## Logistische Regression"
   ]
  },
  {
   "cell_type": "code",
   "execution_count": 26,
   "id": "f3ff08d2",
   "metadata": {},
   "outputs": [
    {
     "name": "stdout",
     "output_type": "stream",
     "text": [
      "Accuracy:  0.8719363395225465\n",
      "Precision:  0.8143806174286831\n",
      "Recall:  0.7400568181818182\n"
     ]
    }
   ],
   "source": [
    "from sklearn.metrics import accuracy_score\n",
    "from sklearn.metrics import precision_score\n",
    "from sklearn.metrics import recall_score\n",
    "\n",
    "print(\"Accuracy: \", accuracy_score(yTest, logResPredict))\n",
    "print(\"Precision: \", precision_score(yTest, logResPredict))\n",
    "print(\"Recall: \", recall_score(yTest, logResPredict))"
   ]
  },
  {
   "cell_type": "markdown",
   "id": "c973899b",
   "metadata": {},
   "source": [
    "## Random Forest Classifier"
   ]
  },
  {
   "cell_type": "code",
   "execution_count": 27,
   "id": "440e71f8",
   "metadata": {},
   "outputs": [
    {
     "name": "stdout",
     "output_type": "stream",
     "text": [
      "Accuracy:  0.8615384615384616\n",
      "Precision:  0.8023209283713485\n",
      "Recall:  0.7120028409090909\n"
     ]
    }
   ],
   "source": [
    "print(\"Accuracy: \", accuracy_score(yTest, ranForClassPredict))\n",
    "print(\"Precision: \", precision_score(yTest, ranForClassPredict))\n",
    "print(\"Recall: \", recall_score(yTest, ranForClassPredict))"
   ]
  },
  {
   "cell_type": "markdown",
   "id": "09baec26",
   "metadata": {},
   "source": [
    "## Gradient Boosting Classifier"
   ]
  },
  {
   "cell_type": "code",
   "execution_count": 28,
   "id": "486e0c1e",
   "metadata": {},
   "outputs": [
    {
     "name": "stdout",
     "output_type": "stream",
     "text": [
      "Accuracy:  0.8723607427055703\n",
      "Precision:  0.8035378246142266\n",
      "Recall:  0.7581676136363636\n"
     ]
    }
   ],
   "source": [
    "print(\"Accuracy: \", accuracy_score(yTest, gradBoostClassPredict))\n",
    "print(\"Precision: \", precision_score(yTest, gradBoostClassPredict))\n",
    "print(\"Recall: \", recall_score(yTest, gradBoostClassPredict))"
   ]
  },
  {
   "cell_type": "markdown",
   "id": "38c52847",
   "metadata": {},
   "source": [
    "# Trainingsdaten Accuarcy"
   ]
  },
  {
   "cell_type": "markdown",
   "id": "f0b3bd22",
   "metadata": {},
   "source": [
    "## Logistische Regression"
   ]
  },
  {
   "cell_type": "code",
   "execution_count": 29,
   "id": "48ae4807",
   "metadata": {},
   "outputs": [
    {
     "name": "stdout",
     "output_type": "stream",
     "text": [
      "Accuracy test data:  0.8719363395225465\n",
      "Accuracy train data:  0.878125\n"
     ]
    }
   ],
   "source": [
    "print(\"Accuracy test data: \", accuracy_score(yTest, logResPredict))\n",
    "logResPredict = logRes.predict(xTrain_scaled)\n",
    "print(\"Accuracy train data: \", accuracy_score(yTrain, logResPredict))"
   ]
  },
  {
   "cell_type": "markdown",
   "id": "d39e7593",
   "metadata": {},
   "source": [
    "## Random Forest Classifier"
   ]
  },
  {
   "cell_type": "code",
   "execution_count": 30,
   "id": "3a0d4036",
   "metadata": {},
   "outputs": [
    {
     "name": "stdout",
     "output_type": "stream",
     "text": [
      "Accuracy test data:  0.8615384615384616\n",
      "Accuracy train data:  0.8710714285714286\n"
     ]
    }
   ],
   "source": [
    "print(\"Accuracy test data: \", accuracy_score(yTest, ranForClassPredict))\n",
    "ranForClassPredict = ranForClass.predict(xTrain_scaled)\n",
    "print(\"Accuracy train data: \", accuracy_score(yTrain, ranForClassPredict))"
   ]
  },
  {
   "cell_type": "markdown",
   "id": "4a650088",
   "metadata": {},
   "source": [
    "## Gradient Boosting Classifier"
   ]
  },
  {
   "cell_type": "code",
   "execution_count": 31,
   "id": "24c38885",
   "metadata": {},
   "outputs": [
    {
     "name": "stdout",
     "output_type": "stream",
     "text": [
      "Accuracy test data:  0.8723607427055703\n",
      "Accuracy train data:  0.8809375\n"
     ]
    }
   ],
   "source": [
    "print(\"Accuracy test data: \", accuracy_score(yTest, gradBoostClassPredict))\n",
    "gradBoostClassPredict = gradBoostClass.predict(xTrain_scaled)\n",
    "print(\"Accuracy train data: \", accuracy_score(yTrain, gradBoostClassPredict))"
   ]
  },
  {
   "cell_type": "markdown",
   "id": "637e1f70",
   "metadata": {},
   "source": [
    "# Falsch klassifizierte Datenpunkte"
   ]
  },
  {
   "cell_type": "code",
   "execution_count": 32,
   "id": "0c42523b",
   "metadata": {},
   "outputs": [],
   "source": [
    "def getIncorrectPoints(yValues, predictions):\n",
    "    incorrectPoints = set()\n",
    "    for index, (yVal, predictVal) in enumerate(zip(yValues, predictions)):\n",
    "        if yVal != predictVal:\n",
    "            incorrectPoints.add(index)\n",
    "    return incorrectPoints"
   ]
  },
  {
   "cell_type": "markdown",
   "id": "9733e7e7",
   "metadata": {},
   "source": [
    "## Logistische Regression"
   ]
  },
  {
   "cell_type": "code",
   "execution_count": 33,
   "id": "999666a6",
   "metadata": {},
   "outputs": [],
   "source": [
    "logResPredict = logRes.predict(xTest_scaled)\n",
    "logResIncorrectPoints = getIncorrectPoints(yTest, logResPredict)"
   ]
  },
  {
   "cell_type": "markdown",
   "id": "4ffc4369",
   "metadata": {},
   "source": [
    "## Random Forest Classifier"
   ]
  },
  {
   "cell_type": "code",
   "execution_count": 34,
   "id": "7f95dc80",
   "metadata": {},
   "outputs": [],
   "source": [
    "ranForClassPredict = ranForClass.predict(xTest_scaled)\n",
    "ranForClassIncorrectPoints = getIncorrectPoints(yTest, ranForClassPredict)"
   ]
  },
  {
   "cell_type": "markdown",
   "id": "d8e409d2",
   "metadata": {},
   "source": [
    "## Gradient Boosting Classifier"
   ]
  },
  {
   "cell_type": "code",
   "execution_count": 35,
   "id": "aae79380",
   "metadata": {},
   "outputs": [],
   "source": [
    "gradBoostClassPredict = gradBoostClass.predict(xTest_scaled)\n",
    "gradBoostClassIncorrectPoints = getIncorrectPoints(yTest, gradBoostClassPredict)"
   ]
  },
  {
   "cell_type": "code",
   "execution_count": 39,
   "id": "90ad794b",
   "metadata": {},
   "outputs": [
    {
     "data": {
      "text/plain": [
       "array([1, 0, 0, ..., 1, 0, 0], dtype=int64)"
      ]
     },
     "execution_count": 39,
     "metadata": {},
     "output_type": "execute_result"
    }
   ],
   "source": [
    "gradBoostClassPredict"
   ]
  },
  {
   "cell_type": "code",
   "execution_count": null,
   "id": "dbf42d3f",
   "metadata": {},
   "outputs": [],
   "source": []
  },
  {
   "cell_type": "markdown",
   "id": "42a9abf4",
   "metadata": {},
   "source": [
    "## Falsche Datenpunkte in allen Modellen"
   ]
  },
  {
   "cell_type": "code",
   "execution_count": 37,
   "id": "7e1e998e",
   "metadata": {},
   "outputs": [
    {
     "data": {
      "text/plain": [
       "927"
      ]
     },
     "execution_count": 37,
     "metadata": {},
     "output_type": "execute_result"
    }
   ],
   "source": [
    "len((gradBoostClassIncorrectPoints.intersection(ranForClassIncorrectPoints)).intersection(logResIncorrectPoints))"
   ]
  }
 ],
 "metadata": {
  "kernelspec": {
   "display_name": "Python 3",
   "language": "python",
   "name": "python3"
  },
  "language_info": {
   "codemirror_mode": {
    "name": "ipython",
    "version": 3
   },
   "file_extension": ".py",
   "mimetype": "text/x-python",
   "name": "python",
   "nbconvert_exporter": "python",
   "pygments_lexer": "ipython3",
   "version": "3.8.8"
  }
 },
 "nbformat": 4,
 "nbformat_minor": 5
}